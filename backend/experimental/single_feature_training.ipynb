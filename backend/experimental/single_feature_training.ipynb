{
 "cells": [
  {
   "cell_type": "code",
   "execution_count": 11,
   "metadata": {},
   "outputs": [],
   "source": [
    "import sys\n",
    "import os\n",
    "\n",
    "# Add the absolute path of the 'backend' folder\n",
    "current_dir = os.path.dirname(os.path.abspath(\"__file__\"))\n",
    "parent_dir = os.path.abspath(os.path.join(current_dir, \"..\"))\n",
    "sys.path.append(parent_dir)"
   ]
  },
  {
   "cell_type": "code",
   "execution_count": 19,
   "metadata": {},
   "outputs": [],
   "source": [
    "from sklearn.linear_model import Ridge\n",
    "from sklearn.model_selection import train_test_split, KFold, cross_val_score\n",
    "import pandas as pd\n",
    "import joblib\n",
    "from model.SimpleLinearRegression import SimpleLinearRegression\n",
    "import matplotlib.pyplot as plt"
   ]
  },
  {
   "cell_type": "code",
   "execution_count": 14,
   "metadata": {},
   "outputs": [],
   "source": [
    "df1 = pd.read_excel('../data/DataSets_01.xlsx')\n",
    "df2 = pd.read_excel('../data/Prix-Moyen-Au-m²-Algerie.xlsx')"
   ]
  },
  {
   "cell_type": "code",
   "execution_count": 15,
   "metadata": {},
   "outputs": [],
   "source": [
    "#les erreurs par NaN\n",
    "df1['Superficie'] = pd.to_numeric(df1['Superficie'], errors='coerce')\n",
    "df1['Prix '] = pd.to_numeric(df1['Prix '], errors='coerce')\n",
    "df2['Superficie'] = pd.to_numeric(df2['Superficie'], errors='coerce')\n",
    "df2['Prix '] = pd.to_numeric(df2['Prix '], errors='coerce')\n",
    "\n",
    "df1.dropna(subset=['Superficie', 'Prix '], inplace=True)\n",
    "df2.dropna(subset=['Superficie', 'Prix '], inplace=True)\n",
    "\n",
    "non_numeric_rows_df1 = df1[df1['Prix '].isna()]\n",
    "non_numeric_rows_df2 = df2[df2['Prix '].isna()]"
   ]
  },
  {
   "cell_type": "code",
   "execution_count": 17,
   "metadata": {},
   "outputs": [
    {
     "name": "stdout",
     "output_type": "stream",
     "text": [
      "        Prix   Superficie\n",
      "0  30031944.0       167.0\n",
      "1  94014480.0       336.0\n",
      "2  14582208.0        64.0\n",
      "3  13136742.0        83.0\n",
      "4  42796257.0       203.0\n",
      "Taille du dataset combiné: 7699\n"
     ]
    }
   ],
   "source": [
    "# Combiner les deux datasets\n",
    "combined_df = pd.concat([df1, df2])\n",
    "\n",
    "print(combined_df.head())\n",
    "print(f'Taille du dataset combiné: {len(combined_df)}')\n",
    "\n",
    "X = combined_df[['Superficie']].values\n",
    "y = combined_df['Prix '].values\n",
    "\n",
    "combined_df.to_excel('../data/Combined_DataSets.xlsx', index=False)"
   ]
  },
  {
   "cell_type": "code",
   "execution_count": 20,
   "metadata": {},
   "outputs": [
    {
     "name": "stdout",
     "output_type": "stream",
     "text": [
      "Validation Croisée k-fold (5 folds): [0.57571911 0.59794264 0.58387159 0.59271205 0.60626724]\n",
      "Score moyen de validation croisée: 0.591302527920291\n"
     ]
    }
   ],
   "source": [
    "# Diviser les données en ensembles d'entraînement et de test (70% entraînement, 30% test)\n",
    "X_train, X_test, y_train, y_test = train_test_split(X, y, test_size=0.3, random_state=42)\n",
    "\n",
    "ridge = Ridge(alpha=1.0)\n",
    "\n",
    "kf = KFold(n_splits=5, shuffle=True, random_state=42)\n",
    "cv_scores = cross_val_score(ridge, X_train, y_train, cv=kf, scoring='r2')\n",
    "\n",
    "# Afficher les résultats de la validation croisée\n",
    "print(f\"Validation Croisée k-fold (5 folds): {cv_scores}\")\n",
    "print(f\"Score moyen de validation croisée: {cv_scores.mean()}\")"
   ]
  },
  {
   "cell_type": "code",
   "execution_count": 21,
   "metadata": {},
   "outputs": [
    {
     "name": "stdout",
     "output_type": "stream",
     "text": [
      "Step 0: Cost = 0.998816632420006\n",
      "Step 100: Cost = 0.8916750115084189\n",
      "Step 200: Cost = 0.8039636489607024\n",
      "Step 300: Cost = 0.7321588446790375\n",
      "Step 400: Cost = 0.6733759257029084\n",
      "Step 500: Cost = 0.6252533578897627\n",
      "Step 600: Cost = 0.5858578740780294\n",
      "Step 700: Cost = 0.5536068073688039\n",
      "Step 800: Cost = 0.5272045093578632\n",
      "Step 900: Cost = 0.5055902989956591\n",
      "Step 1000: Cost = 0.48789585098253385\n",
      "Step 1100: Cost = 0.4734103118283221\n",
      "Step 1200: Cost = 0.46155174215535527\n",
      "Step 1300: Cost = 0.45184373797329164\n",
      "Step 1400: Cost = 0.44389629171307315\n",
      "Step 1500: Cost = 0.4373901241348007\n",
      "Step 1600: Cost = 0.4320638576624548\n",
      "Step 1700: Cost = 0.4277035158493797\n",
      "Step 1800: Cost = 0.4241339271279772\n",
      "Step 1900: Cost = 0.4212116874994815\n",
      "Step 2000: Cost = 0.4188193994481569\n",
      "Step 2100: Cost = 0.41686095563516407\n",
      "Step 2200: Cost = 0.41525767790005846\n",
      "Step 2300: Cost = 0.4139451564588854\n",
      "Step 2400: Cost = 0.4128706623174026\n",
      "Step 2500: Cost = 0.4119910289461974\n",
      "Step 2600: Cost = 0.4112709181164876\n",
      "Step 2700: Cost = 0.41068140022865346\n",
      "Step 2800: Cost = 0.41019879209981835\n",
      "Step 2900: Cost = 0.4098037055200541\n",
      "Step 3000: Cost = 0.4094802683539848\n",
      "Step 3100: Cost = 0.409215486896573\n",
      "Step 3200: Cost = 0.4089987238663949\n",
      "Step 3300: Cost = 0.40882127106546723\n",
      "Step 3400: Cost = 0.4086759995376953\n",
      "Step 3500: Cost = 0.4085570731715339\n",
      "Step 3600: Cost = 0.40845971424107824\n",
      "Step 3700: Cost = 0.4083800114666225\n",
      "Step 3800: Cost = 0.40831476288360885\n",
      "Step 3900: Cost = 0.4082613472074983\n",
      "Step 4000: Cost = 0.4082176185267758\n",
      "Step 4100: Cost = 0.40818182009348836\n",
      "Step 4200: Cost = 0.4081525137479762\n",
      "Step 4300: Cost = 0.40812852214253076\n",
      "Step 4400: Cost = 0.40810888144281504\n",
      "Step 4500: Cost = 0.40809280260698005\n",
      "Step 4600: Cost = 0.408079639686847\n",
      "Step 4700: Cost = 0.4080688638776858\n",
      "Step 4800: Cost = 0.4080600422741309\n",
      "Step 4900: Cost = 0.4080528204787038\n",
      "Step 5000: Cost = 0.4080469083643348\n",
      "Step 5100: Cost = 0.4080420684188221\n",
      "Step 5200: Cost = 0.4080381062030986\n",
      "Step 5300: Cost = 0.40803486253982896\n",
      "Step 5400: Cost = 0.40803220711869426\n",
      "Step 5500: Cost = 0.40803003326128906\n",
      "Step 5600: Cost = 0.40802825363547035\n",
      "Step 5700: Cost = 0.4080267967468728\n",
      "Step 5800: Cost = 0.4080256040667321\n",
      "Step 5900: Cost = 0.40802462768052916\n",
      "Step 6000: Cost = 0.408023828363107\n",
      "Step 6100: Cost = 0.4080231740028363\n",
      "Step 6200: Cost = 0.4080226383115645\n",
      "Step 6300: Cost = 0.40802219976853304\n",
      "Step 6400: Cost = 0.40802184075579145\n",
      "Step 6500: Cost = 0.40802154685043446\n",
      "Step 6600: Cost = 0.4080213062451576\n",
      "Step 6700: Cost = 0.4080211092739274\n",
      "Step 6800: Cost = 0.4080209480236613\n",
      "Step 6900: Cost = 0.40802081601631984\n",
      "Step 7000: Cost = 0.408020707948664\n",
      "Step 7100: Cost = 0.40802061947920293\n",
      "Step 7200: Cost = 0.4080205470537835\n",
      "Step 7300: Cost = 0.4080204877627976\n",
      "Step 7400: Cost = 0.40802043922430237\n",
      "Step 7500: Cost = 0.40802039948831903\n",
      "Step 7600: Cost = 0.40802036695850336\n",
      "Step 7700: Cost = 0.408020340328009\n",
      "Step 7800: Cost = 0.4080203185269838\n",
      "Step 7900: Cost = 0.408020300679602\n",
      "Step 8000: Cost = 0.4080202860688617\n",
      "Step 8100: Cost = 0.40802027410779795\n",
      "Step 8200: Cost = 0.4080202643158867\n",
      "Step 8300: Cost = 0.4080202562997507\n",
      "Step 8400: Cost = 0.4080202497373479\n",
      "Step 8500: Cost = 0.4080202443650473\n",
      "Step 8600: Cost = 0.40802023996701775\n",
      "Step 8700: Cost = 0.40802023636657736\n",
      "Step 8800: Cost = 0.4080202334190812\n",
      "Step 8900: Cost = 0.40802023100611706\n",
      "Step 9000: Cost = 0.4080202290307459\n",
      "Step 9100: Cost = 0.4080202274136095\n",
      "Step 9200: Cost = 0.40802022608974464\n",
      "Step 9300: Cost = 0.40802022500596324\n",
      "Step 9400: Cost = 0.408020224118728\n",
      "Step 9500: Cost = 0.4080202233923936\n",
      "Step 9600: Cost = 0.4080202227977787\n",
      "Step 9700: Cost = 0.40802022231100005\n",
      "Step 9800: Cost = 0.4080202219124987\n",
      "Step 9900: Cost = 0.40802022158626605\n"
     ]
    }
   ],
   "source": [
    "# Initialiser et entraîner le modèle en utilisant la descente de gradient\n",
    "model = SimpleLinearRegression()\n",
    "model.fit(X_train, y_train, max_steps=10000, learning_rate=0.001)"
   ]
  },
  {
   "cell_type": "code",
   "execution_count": 22,
   "metadata": {},
   "outputs": [
    {
     "name": "stdout",
     "output_type": "stream",
     "text": [
      "Using Gradient Descent:\n",
      "Slope (b1): 234579.36478117792\n",
      "Intercept (b0): -2614296.097272612\n",
      "R-squared: 0.606173891012666\n"
     ]
    }
   ],
   "source": [
    "# Afficher les paramètres du modèle\n",
    "print(f\"Using Gradient Descent:\")\n",
    "print(f\"Slope (b1): {model.slope}\")\n",
    "print(f\"Intercept (b0): {model.intercept}\")\n",
    "\n",
    "# Évaluer le modèle\n",
    "r2_score = model.score(X_test, y_test)\n",
    "print(f\"R-squared: {r2_score}\")"
   ]
  },
  {
   "cell_type": "code",
   "execution_count": 23,
   "metadata": {},
   "outputs": [
    {
     "data": {
      "image/png": "[encoded data removed]",
      "text/plain": [
       "<Figure size 640x480 with 1 Axes>"
      ]
     },
     "metadata": {},
     "output_type": "display_data"
    }
   ],
   "source": [
    "# Optionnel: Visualisation des résultats\n",
    "plt.scatter(X_test, y_test, color='blue', label='Actual')\n",
    "plt.plot(X_test, model.predict(X_test), color='red', label='Predicted')\n",
    "plt.xlabel('Superficie')\n",
    "plt.ylabel('Prix')\n",
    "plt.legend()\n",
    "plt.show()"
   ]
  },
  {
   "cell_type": "code",
   "execution_count": 24,
   "metadata": {},
   "outputs": [
    {
     "data": {
      "text/plain": [
       "['simple_linear_regression_model.pkl']"
      ]
     },
     "execution_count": 24,
     "metadata": {},
     "output_type": "execute_result"
    }
   ],
   "source": [
    "# Sauvegarder le modèle entraîné\n",
    "joblib.dump(model, 'simple_linear_regression_model.pkl')"
   ]
  },
  {
   "cell_type": "code",
   "execution_count": 25,
   "metadata": {},
   "outputs": [],
   "source": [
    "def predict_price(superficie):\n",
    "    predicted_price = model.predict([superficie])[0]\n",
    "    return predicted_price"
   ]
  },
  {
   "cell_type": "code",
   "execution_count": 29,
   "metadata": {},
   "outputs": [
    {
     "name": "stdout",
     "output_type": "stream",
     "text": [
      "Le prix prédit pour une superficie de 20 m² est : 2077291.1983509464 DZD\n"
     ]
    }
   ],
   "source": [
    "superficie = 20\n",
    "prix_predicted = predict_price(superficie)\n",
    "print(f\"Le prix prédit pour une superficie de {superficie} m² est : {prix_predicted} DZD\")"
   ]
  }
 ],
 "metadata": {
  "kernelspec": {
   "display_name": "ai",
   "language": "python",
   "name": "python3"
  },
  "language_info": {
   "codemirror_mode": {
    "name": "ipython",
    "version": 3
   },
   "file_extension": ".py",
   "mimetype": "text/x-python",
   "name": "python",
   "nbconvert_exporter": "python",
   "pygments_lexer": "ipython3",
   "version": "3.10.15"
  }
 },
 "nbformat": 4,
 "nbformat_minor": 2
}
